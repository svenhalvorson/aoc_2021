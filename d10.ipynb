{
 "cells": [
  {
   "cell_type": "markdown",
   "id": "3ff067a9",
   "metadata": {},
   "source": [
    "### Day 10\n",
    "\n",
    "Have a series of inputs that are 4 kinds of braces. We're asked to figure out which, if any of the characters are unbalanced."
   ]
  },
  {
   "cell_type": "code",
   "execution_count": 1,
   "id": "92b6cfe3",
   "metadata": {},
   "outputs": [
    {
     "data": {
      "text/plain": [
       "['(({({({(({{<{{()<>}}>}}([<[(<>{})(()()))[[{}[]]{<>{}}]>(<(<>[])<[]()>><[{}[]]([]<>)>)]{{({{}[]}{{}{}})}})',\n",
       " '[{(<(<<([[[{(([]{})<(){}>)<{<>}(()[])>}]]{[([(()[])[[][]]]<((){})((){})>)({{{}[]}<{}>})]}]){{[[<<{<>}(<',\n",
       " '((<[([(({<<<{{<><>}({}<>)}{{<>{}}[[]()]}>>([<[{}{}]>{[()<>]<<>()>}]<(<{}()><[]{}>)<<[]<>>}>)>}[<{<([<><>]<',\n",
       " '[<[<({{({{[({[[][]]<{}<>>})<[<{}{}>]([<><>](<>{}))>]{[{[[]{}}{{}{}}}<(<><>)({})>]{({()()}[<>()])',\n",
       " '[<{<<({[{{{(<({}()){{}[]}><(<><>)[[]{}]>)}<(([{}{}]{<>[]}))<(<<>[]>){<[]>(<>{})}>>}({{((<>())<']"
      ]
     },
     "execution_count": 1,
     "metadata": {},
     "output_type": "execute_result"
    }
   ],
   "source": [
    "import pandas as pd\n",
    "import numpy as np\n",
    "\n",
    "with open('d10.txt') as file:\n",
    "    puzzle_input = file.readlines()\n",
    "    puzzle_input = [x.strip() for x in puzzle_input]\n",
    "puzzle_input[:5]"
   ]
  },
  {
   "cell_type": "code",
   "execution_count": 2,
   "id": "a35051b6",
   "metadata": {},
   "outputs": [
    {
     "name": "stdout",
     "output_type": "stream",
     "text": [
      "[({(<((\n",
      "))[]>[[\n"
     ]
    },
    {
     "data": {
      "text/plain": [
       "''"
      ]
     },
     "execution_count": 2,
     "metadata": {},
     "output_type": "execute_result"
    }
   ],
   "source": [
    "def check_nav(x):\n",
    "    \n",
    "    reverse_dict = {\n",
    "        ')' : '(',\n",
    "        '}' : '{',\n",
    "        ']' : '[',\n",
    "        '>' : '<'\n",
    "    }\n",
    "    \n",
    "    \n",
    "    index = 0\n",
    "    while index < len(x):\n",
    "        if x[index] in reverse_dict:\n",
    "            start_chunk = x[:index]\n",
    "            end_chunk = x[index:(index + len(start_chunk))]\n",
    "            print(start_chunk)\n",
    "            print(end_chunk)\n",
    "            return ''\n",
    "        index += 1\n",
    "        \n",
    "    for i, brace in next(x):\n",
    "        if brace in reverse_dict:\n",
    "            base_dict[brace] += 1\n",
    "        else: \n",
    "            brace_reverse = reverse_dict[brace]\n",
    "            base_dict[brace_reverse] -= 1\n",
    "            if base_dict[brace_reverse] < 0:\n",
    "                for key in base_dict:\n",
    "                    if base_dict[key] > 0:\n",
    "                        return key\n",
    "        print(base_dict)\n",
    "    if all([x == 0 for x in base_dict.values()]):\n",
    "        return ''\n",
    "    \n",
    "check_nav('[({(<(())[]>[[{[]{<()<>>')\n",
    "   "
   ]
  },
  {
   "cell_type": "code",
   "execution_count": 3,
   "id": "ba39b9a1",
   "metadata": {},
   "outputs": [
    {
     "data": {
      "text/plain": [
       "389589"
      ]
     },
     "execution_count": 3,
     "metadata": {},
     "output_type": "execute_result"
    }
   ],
   "source": [
    "def remove_chunks(x):\n",
    "    reverse_dict = {\n",
    "        ')' : '(',\n",
    "        '}' : '{',\n",
    "        ']' : '[',\n",
    "        '>' : '<'\n",
    "    }\n",
    "    \n",
    "    done = False\n",
    "    while not done:\n",
    "        for i, brace in enumerate(x):\n",
    "            if brace in reverse_dict:\n",
    "                if x[i-1] != reverse_dict[brace]:\n",
    "                    return brace\n",
    "                else:\n",
    "                    x = x[:i-1] + x[i+1:]\n",
    "                    #print(x, i)\n",
    "                    break\n",
    "            if i == (len(x) - 1):\n",
    "                done = True\n",
    "    return x\n",
    "\n",
    "cleaned_chunks = [remove_chunks(x) for x in puzzle_input]\n",
    "chunk_results = pd.Series(cleaned_chunks).value_counts().reset_index().rename(columns = {'index' : 'symbol', 0 : 'N'})\n",
    "score_table = pd.DataFrame({\n",
    "    'symbol' : [')', ']', '}', '>'],\n",
    "    'score' : [3, 57, 1197, 25137]\n",
    "})\n",
    "\n",
    "chunk_results = chunk_results.merge(score_table)\n",
    "(chunk_results['N']*chunk_results['score']).sum()"
   ]
  },
  {
   "cell_type": "markdown",
   "id": "049a425c",
   "metadata": {},
   "source": [
    "### Part 2: \n",
    "\n",
    "Now we basically have to reverse all these that are more than 1 character. There is some funny scoring scheme too"
   ]
  },
  {
   "cell_type": "code",
   "execution_count": 4,
   "id": "4270546a",
   "metadata": {},
   "outputs": [
    {
     "data": {
      "text/plain": [
       "['[{(<(<<{{[[<<(<',\n",
       " '[<{<<({[{({{(<',\n",
       " '{[([<[<({(([{<',\n",
       " '(({[<[((<(<((<',\n",
       " '(<(<[({([{[']"
      ]
     },
     "execution_count": 4,
     "metadata": {},
     "output_type": "execute_result"
    }
   ],
   "source": [
    "cleaned_chunks = [x for x in cleaned_chunks if len(x) > 1]\n",
    "cleaned_chunks[:5]"
   ]
  },
  {
   "cell_type": "code",
   "execution_count": 5,
   "id": "8d4daa1d",
   "metadata": {},
   "outputs": [
    {
     "data": {
      "text/plain": [
       "1190420163.0"
      ]
     },
     "execution_count": 5,
     "metadata": {},
     "output_type": "execute_result"
    }
   ],
   "source": [
    "def score_chunk(x):\n",
    "    # Reverse it:\n",
    "    x = x[::-1]\n",
    "    reverse_dict = {\n",
    "        '(' : ')',\n",
    "        '{' : '}',\n",
    "        '[' : ']',\n",
    "        '<' : '>'\n",
    "    }\n",
    "    x = ''.join([reverse_dict[y] for y in x])\n",
    "    \n",
    "    total = 0\n",
    "    score_dict = {\n",
    "        ')': 1,\n",
    "        ']': 2,\n",
    "        '}': 3,\n",
    "        '>': 4\n",
    "    }\n",
    "    \n",
    "    for char in x:\n",
    "        total = total*5 + score_dict[char]\n",
    "        #print(total)\n",
    "    return total\n",
    "\n",
    "\n",
    "pd.Series([score_chunk(x) for x in cleaned_chunks]).median() "
   ]
  },
  {
   "cell_type": "code",
   "execution_count": null,
   "id": "6539ef5f",
   "metadata": {},
   "outputs": [],
   "source": []
  }
 ],
 "metadata": {
  "kernelspec": {
   "display_name": "Python 3 (ipykernel)",
   "language": "python",
   "name": "python3"
  },
  "language_info": {
   "codemirror_mode": {
    "name": "ipython",
    "version": 3
   },
   "file_extension": ".py",
   "mimetype": "text/x-python",
   "name": "python",
   "nbconvert_exporter": "python",
   "pygments_lexer": "ipython3",
   "version": "3.8.8"
  }
 },
 "nbformat": 4,
 "nbformat_minor": 5
}
