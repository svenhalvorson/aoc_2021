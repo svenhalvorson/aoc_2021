{
 "cells": [
  {
   "cell_type": "markdown",
   "id": "6bb293ba",
   "metadata": {},
   "source": [
    "### Day 9\n",
    "\n",
    "We're given a large grid of numbers and are asked to find the \"low points\" which are cells with a smaller value than all their adjacent (not diagonal) neighbors. We're asked to sum up 1+ the values on all these low points"
   ]
  },
  {
   "cell_type": "code",
   "execution_count": 1,
   "id": "3bbe20bc",
   "metadata": {},
   "outputs": [
    {
     "data": {
      "text/plain": [
       "array([[8, 6, 5, ..., 9, 9, 9],\n",
       "       [8, 7, 4, ..., 8, 7, 7],\n",
       "       [9, 6, 5, ..., 9, 5, 6],\n",
       "       ...,\n",
       "       [8, 7, 6, ..., 1, 2, 3],\n",
       "       [9, 8, 9, ..., 3, 4, 4],\n",
       "       [9, 9, 6, ..., 4, 6, 7]])"
      ]
     },
     "execution_count": 1,
     "metadata": {},
     "output_type": "execute_result"
    }
   ],
   "source": [
    "import pandas as pd\n",
    "import numpy as np\n",
    "from functools import reduce\n",
    "\n",
    "with open('d9.txt') as file:\n",
    "    puzzle_input = file.readlines()\n",
    "    \n",
    "vents = [x.strip() for x in puzzle_input]\n",
    "vents = [[int(y) for y in x] for x in vents]\n",
    "vents = np.array(vents)\n",
    "vents"
   ]
  },
  {
   "cell_type": "markdown",
   "id": "d6a03f2f",
   "metadata": {},
   "source": [
    "Trying to think about what could be done to speed this up... I don't think it will be particularly slow to just run through every cell but seems like there should be some neat trick....\n",
    "\n",
    "Only thing I'm thinking of is marking the adjacent cells as NOT minimums when we do find a min... but that probably requires enough other checks that it's not worth it...."
   ]
  },
  {
   "cell_type": "code",
   "execution_count": 2,
   "id": "9321250a",
   "metadata": {},
   "outputs": [
    {
     "data": {
      "text/plain": [
       "439.0"
      ]
     },
     "execution_count": 2,
     "metadata": {},
     "output_type": "execute_result"
    }
   ],
   "source": [
    "# store the results here\n",
    "mins = np.zeros(shape = vents.shape)\n",
    "\n",
    "shifts = [(-1, 0), (0, 1), (1, 0), (0, -1)]\n",
    "\n",
    "for i in range(vents.shape[0]):\n",
    "    for j in range(vents.shape[1]):\n",
    "        \n",
    "        cell_value = vents[i][j]\n",
    "        \n",
    "        comparisons = []\n",
    "        for shift in shifts:\n",
    "            \n",
    "            next_row = i + shift[0]\n",
    "            next_col = j + shift[1]\n",
    "            \n",
    "            if (next_row >= 0) and (next_row < len(vents)) and (next_col >= 0) and (next_col < len(vents[0])):\n",
    "                comparisons.append(vents[next_row][next_col])\n",
    "                \n",
    "        \n",
    "        if cell_value < min(comparisons):\n",
    "            mins[i][j] = cell_value + 1\n",
    "        \n",
    "\n",
    "mins.sum()       \n",
    "        "
   ]
  },
  {
   "cell_type": "markdown",
   "id": "ade8fa17",
   "metadata": {},
   "source": [
    "### Part 2\n",
    "\n",
    "Now we have this problem having to do with basins. We're told that each location identified previously is the drain of some basin that is defined of a contiguous region without a 9 in that place. We need to find the three largest basins.\n",
    "\n",
    "My thought is to give them all an id, write a function to expand a basin, and then split apply."
   ]
  },
  {
   "cell_type": "code",
   "execution_count": 3,
   "id": "78b4f47c",
   "metadata": {},
   "outputs": [
    {
     "data": {
      "text/plain": [
       "array([[  0,   0,   0, ...,   0,   0,   0],\n",
       "       [  0,   0,   0, ...,   0,   0,   0],\n",
       "       [  0,   0,   0, ...,   0,   0,   0],\n",
       "       ...,\n",
       "       [  0,   0,   0, ..., 209,   0,   0],\n",
       "       [  0,   0,   0, ...,   0,   0,   0],\n",
       "       [  0,   0,   0, ...,   0,   0,   0]])"
      ]
     },
     "execution_count": 3,
     "metadata": {},
     "output_type": "execute_result"
    }
   ],
   "source": [
    "ids = mins.copy().astype('int')\n",
    "next_id = 1\n",
    "drains = []\n",
    "for i in range(len(ids)):\n",
    "    for j in range(len(ids[0])):\n",
    "        if ids[i][j] > 0:\n",
    "            ids[i][j] = next_id\n",
    "            next_id += 1\n",
    "            drains.append((i, j))\n",
    "ids"
   ]
  },
  {
   "cell_type": "markdown",
   "id": "486910d1",
   "metadata": {},
   "source": [
    "So one thing I'm noticing here is that I set the id '9' as a value with a different meaning so perhaps we should use a different flag here for the inpassable parts:"
   ]
  },
  {
   "cell_type": "code",
   "execution_count": 4,
   "id": "370336a5",
   "metadata": {},
   "outputs": [
    {
     "data": {
      "text/plain": [
       "array([[  0,   0,   0, ...,  -1,  -1,  -1],\n",
       "       [  0,   0,   0, ...,   0,   0,   0],\n",
       "       [ -1,   0,   0, ...,  -1,   0,   0],\n",
       "       ...,\n",
       "       [  0,   0,   0, ..., 209,   0,   0],\n",
       "       [ -1,   0,  -1, ...,   0,   0,   0],\n",
       "       [ -1,  -1,   0, ...,   0,   0,   0]])"
      ]
     },
     "execution_count": 4,
     "metadata": {},
     "output_type": "execute_result"
    }
   ],
   "source": [
    "ids = np.where(\n",
    "    vents == 9,\n",
    "    -1,\n",
    "    ids\n",
    ")\n",
    "ids"
   ]
  },
  {
   "cell_type": "code",
   "execution_count": 5,
   "id": "768d6cc1",
   "metadata": {},
   "outputs": [],
   "source": [
    "# This will just return a list of the coordinates of the maps\n",
    "def get_basin(value, array):\n",
    "    matches = np.where(array == value)\n",
    "    result = []\n",
    "    for i in range(len(matches[0])):\n",
    "        result.append((matches[0][i], matches[1][i]))\n",
    "    return result\n",
    "\n",
    "\n",
    "\n",
    "# This will changet the values of the ids array until none more can be changed\n",
    "def mark_basin(value, array):\n",
    "    \n",
    "    # same list of shifts\n",
    "    shifts = [(-1, 0), (0, 1), (1, 0), (0, -1)]\n",
    "    \n",
    "    basin_count = 0\n",
    "    \n",
    "    while basin_count < len(get_basin(value, array)):\n",
    "        \n",
    "        basin = get_basin(value, array)\n",
    "        basin_count = len(basin)        \n",
    "        \n",
    "        for cell in basin:\n",
    "            for shift in shifts:\n",
    "                next_row = cell[0] + shift[0]\n",
    "                next_col = cell[1] + shift[1]\n",
    "\n",
    "                if (next_row >= 0) and (next_row < len(array)) and (next_col >= 0) and (next_col < len(array[0])):\n",
    "                    if array[next_row][next_col] != -1:\n",
    "                        array[next_row][next_col] = value\n",
    "    \n",
    "    return array\n",
    "\n",
    "\n",
    "# Now we get all the ids and run this over and over\n",
    "id_values = np.unique(ids)\n",
    "\n",
    "for next_id in id_values:\n",
    "    if not next_id in [0, -1]:\n",
    "        ids = mark_basin(next_id, ids)   \n",
    "        #print(ids)\n",
    "        \n",
    "# mow we have to count up the top three\n",
    "\n"
   ]
  },
  {
   "cell_type": "code",
   "execution_count": 7,
   "id": "9be81817",
   "metadata": {},
   "outputs": [
    {
     "data": {
      "text/plain": [
       "-1      2784\n",
       " 142     100\n",
       " 208      99\n",
       " 113      91\n",
       " 135      90\n",
       "        ... \n",
       " 15        2\n",
       " 191       2\n",
       " 166       2\n",
       " 133       2\n",
       " 216       2\n",
       "Length: 219, dtype: int64"
      ]
     },
     "execution_count": 7,
     "metadata": {},
     "output_type": "execute_result"
    }
   ],
   "source": [
    "id_counts = ids.tolist()\n",
    "id_counts = reduce(lambda x, y: x + y, id_counts)\n",
    "id_counts = pd.Series(id_counts)\n",
    "id_counts.value_counts()"
   ]
  },
  {
   "cell_type": "code",
   "execution_count": 8,
   "id": "9f5faa93",
   "metadata": {},
   "outputs": [
    {
     "data": {
      "text/plain": [
       "900900"
      ]
     },
     "execution_count": 8,
     "metadata": {},
     "output_type": "execute_result"
    }
   ],
   "source": [
    "100*99*91"
   ]
  }
 ],
 "metadata": {
  "kernelspec": {
   "display_name": "Python 3 (ipykernel)",
   "language": "python",
   "name": "python3"
  },
  "language_info": {
   "codemirror_mode": {
    "name": "ipython",
    "version": 3
   },
   "file_extension": ".py",
   "mimetype": "text/x-python",
   "name": "python",
   "nbconvert_exporter": "python",
   "pygments_lexer": "ipython3",
   "version": "3.8.8"
  }
 },
 "nbformat": 4,
 "nbformat_minor": 5
}
