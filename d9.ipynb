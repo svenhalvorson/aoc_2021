{
 "cells": [
  {
   "cell_type": "markdown",
   "id": "dba16bdc",
   "metadata": {},
   "source": [
    "### Day 9\n",
    "\n",
    "We're given a large grid of numbers and are asked to find the \"low points\" which are cells with a smaller value than all their adjacent (not diagonal) neighbors. We're asked to sum up 1+ the values on all these low points"
   ]
  },
  {
   "cell_type": "code",
   "execution_count": 24,
   "id": "4af7715c",
   "metadata": {},
   "outputs": [
    {
     "data": {
      "text/plain": [
       "array([[8, 6, 5, ..., 9, 9, 9],\n",
       "       [8, 7, 4, ..., 8, 7, 7],\n",
       "       [9, 6, 5, ..., 9, 5, 6],\n",
       "       ...,\n",
       "       [8, 7, 6, ..., 1, 2, 3],\n",
       "       [9, 8, 9, ..., 3, 4, 4],\n",
       "       [9, 9, 6, ..., 4, 6, 7]])"
      ]
     },
     "execution_count": 24,
     "metadata": {},
     "output_type": "execute_result"
    }
   ],
   "source": [
    "import pandas as pd\n",
    "import numpy as np\n",
    "\n",
    "with open('d9.txt') as file:\n",
    "    puzzle_input = file.readlines()\n",
    "    \n",
    "vents = [x.strip() for x in puzzle_input]\n",
    "vents = [[int(y) for y in x] for x in vents]\n",
    "vents = np.array(vents)\n",
    "vents"
   ]
  },
  {
   "cell_type": "markdown",
   "id": "58d42939",
   "metadata": {},
   "source": [
    "Trying to think about what could be done to speed this up... I don't think it will be particularly slow to just run through every cell but seems like there should be some neat trick....\n",
    "\n",
    "Only thing I'm thinking of is marking the adjacent cells as NOT minimums when we do find a min... but that probably requires enough other checks that it's not worth it...."
   ]
  },
  {
   "cell_type": "code",
   "execution_count": 53,
   "id": "214ad991",
   "metadata": {},
   "outputs": [
    {
     "data": {
      "text/plain": [
       "439.0"
      ]
     },
     "execution_count": 53,
     "metadata": {},
     "output_type": "execute_result"
    }
   ],
   "source": [
    "# store the results here\n",
    "mins = np.zeros(shape = vents.shape)\n",
    "\n",
    "shifts = [(-1, 0), (0, 1), (1, 0), (0, -1)]\n",
    "\n",
    "for i in range(vents.shape[0]):\n",
    "    for j in range(vents.shape[1]):\n",
    "        \n",
    "        cell_value = vents[i][j]\n",
    "        \n",
    "        comparisons = []\n",
    "        for shift in shifts:\n",
    "            \n",
    "            next_row = i + shift[0]\n",
    "            next_col = j + shift[1]\n",
    "            \n",
    "            if (next_row >= 0) and (next_row < 100) and (next_col >= 0) and (next_col < 100):\n",
    "                comparisons.append(vents[next_row][next_col])\n",
    "                \n",
    "        \n",
    "        if cell_value < min(comparisons):\n",
    "            mins[i][j] = cell_value + 1\n",
    "        \n",
    "\n",
    "mins.sum()       \n",
    "        "
   ]
  },
  {
   "cell_type": "code",
   "execution_count": 54,
   "id": "595eb4d5",
   "metadata": {},
   "outputs": [
    {
     "data": {
      "text/plain": [
       "array([[0., 0., 0., ..., 0., 0., 0.],\n",
       "       [0., 0., 0., ..., 0., 0., 0.],\n",
       "       [0., 0., 0., ..., 0., 0., 0.],\n",
       "       ...,\n",
       "       [0., 0., 0., ..., 2., 0., 0.],\n",
       "       [0., 0., 0., ..., 0., 0., 0.],\n",
       "       [0., 0., 0., ..., 0., 0., 0.]])"
      ]
     },
     "execution_count": 54,
     "metadata": {},
     "output_type": "execute_result"
    }
   ],
   "source": [
    "mins"
   ]
  },
  {
   "cell_type": "code",
   "execution_count": 28,
   "id": "74515cd3",
   "metadata": {},
   "outputs": [
    {
     "data": {
      "text/plain": [
       "(100, 100)"
      ]
     },
     "execution_count": 28,
     "metadata": {},
     "output_type": "execute_result"
    }
   ],
   "source": [
    "mins.shape"
   ]
  },
  {
   "cell_type": "code",
   "execution_count": 30,
   "id": "1536117b",
   "metadata": {},
   "outputs": [
    {
     "name": "stdout",
     "output_type": "stream",
     "text": [
      "bonk\n"
     ]
    }
   ],
   "source": [
    "try:\n",
    "    vents[-1][0]\n",
    "    print('bonk')\n",
    "except KeyError:\n",
    "    print('conk')"
   ]
  },
  {
   "cell_type": "code",
   "execution_count": 32,
   "id": "37c67503",
   "metadata": {},
   "outputs": [
    {
     "data": {
      "text/plain": [
       "array([9, 9, 6, 5, 4, 1, 0, 9, 8, 7, 3, 2, 1, 0, 2, 4, 5, 8, 9, 9, 9, 9,\n",
       "       8, 9, 9, 9, 9, 8, 7, 6, 5, 6, 7, 6, 8, 9, 1, 2, 9, 9, 8, 7, 6, 5,\n",
       "       3, 5, 6, 7, 8, 9, 7, 5, 3, 2, 4, 6, 6, 7, 8, 9, 7, 6, 4, 3, 2, 4,\n",
       "       5, 6, 9, 8, 8, 6, 7, 6, 8, 6, 7, 8, 9, 2, 1, 0, 1, 2, 3, 4, 5, 6,\n",
       "       8, 9, 2, 3, 7, 8, 9, 5, 4, 4, 6, 7])"
      ]
     },
     "execution_count": 32,
     "metadata": {},
     "output_type": "execute_result"
    }
   ],
   "source": [
    "vents[-1]"
   ]
  },
  {
   "cell_type": "code",
   "execution_count": null,
   "id": "86f86b20",
   "metadata": {},
   "outputs": [],
   "source": []
  }
 ],
 "metadata": {
  "kernelspec": {
   "display_name": "Python 3 (ipykernel)",
   "language": "python",
   "name": "python3"
  },
  "language_info": {
   "codemirror_mode": {
    "name": "ipython",
    "version": 3
   },
   "file_extension": ".py",
   "mimetype": "text/x-python",
   "name": "python",
   "nbconvert_exporter": "python",
   "pygments_lexer": "ipython3",
   "version": "3.8.8"
  }
 },
 "nbformat": 4,
 "nbformat_minor": 5
}
