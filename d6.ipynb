{
 "cells": [
  {
   "cell_type": "markdown",
   "id": "1fefa815",
   "metadata": {},
   "source": [
    "### Day 6\n",
    "\n",
    "This one has a very interesting math problem involving exponential growth. We're given these details about some fish that are reproducing and, apparently, never dying\n",
    "\n",
    "1. An adult lantern fish reproduces every 7 days\n",
    "2. A juvenile lantern fish requires 2 days to mature, and then reproduces every 7 days\n",
    "3. We begin with a number of lantern fish at different points into their reproductive cycle\n",
    "\n",
    "Some observations:\n",
    "- We can reduce the calculations by just condsidering all the different cases and then multiplying the results by the frequencies\n",
    "- It might be best to center them around their first reproduction and then just offset by the starting value \n",
    "- It isn't as simple as writing an exponential growth equation since there is an additional lag that each generation has..."
   ]
  },
  {
   "cell_type": "code",
   "execution_count": 15,
   "id": "97019e4c",
   "metadata": {},
   "outputs": [
    {
     "data": {
      "text/html": [
       "<div>\n",
       "<style scoped>\n",
       "    .dataframe tbody tr th:only-of-type {\n",
       "        vertical-align: middle;\n",
       "    }\n",
       "\n",
       "    .dataframe tbody tr th {\n",
       "        vertical-align: top;\n",
       "    }\n",
       "\n",
       "    .dataframe thead th {\n",
       "        text-align: right;\n",
       "    }\n",
       "</style>\n",
       "<table border=\"1\" class=\"dataframe\">\n",
       "  <thead>\n",
       "    <tr style=\"text-align: right;\">\n",
       "      <th></th>\n",
       "      <th>timer</th>\n",
       "      <th>N</th>\n",
       "      <th>start_date</th>\n",
       "    </tr>\n",
       "  </thead>\n",
       "  <tbody>\n",
       "    <tr>\n",
       "      <th>0</th>\n",
       "      <td>1</td>\n",
       "      <td>116</td>\n",
       "      <td>79</td>\n",
       "    </tr>\n",
       "    <tr>\n",
       "      <th>3</th>\n",
       "      <td>2</td>\n",
       "      <td>45</td>\n",
       "      <td>78</td>\n",
       "    </tr>\n",
       "    <tr>\n",
       "      <th>4</th>\n",
       "      <td>3</td>\n",
       "      <td>42</td>\n",
       "      <td>77</td>\n",
       "    </tr>\n",
       "    <tr>\n",
       "      <th>2</th>\n",
       "      <td>4</td>\n",
       "      <td>48</td>\n",
       "      <td>76</td>\n",
       "    </tr>\n",
       "    <tr>\n",
       "      <th>1</th>\n",
       "      <td>5</td>\n",
       "      <td>49</td>\n",
       "      <td>75</td>\n",
       "    </tr>\n",
       "  </tbody>\n",
       "</table>\n",
       "</div>"
      ],
      "text/plain": [
       "   timer    N  start_date\n",
       "0      1  116          79\n",
       "3      2   45          78\n",
       "4      3   42          77\n",
       "2      4   48          76\n",
       "1      5   49          75"
      ]
     },
     "execution_count": 15,
     "metadata": {},
     "output_type": "execute_result"
    }
   ],
   "source": [
    "import pandas as pd\n",
    "import numpy as np\n",
    "\n",
    "with open('d6.txt') as file:\n",
    "    puzzle_input = file.readline()\n",
    "\n",
    "fish_counts = puzzle_input.replace('\\n', '')\n",
    "fish_counts = fish_counts.split(',')\n",
    "fish_counts = pd.Series(fish_counts).astype('int')\n",
    "fish_counts = (\n",
    "    fish_counts\n",
    "    .value_counts()\n",
    "    .reset_index(drop = False)\n",
    "    .rename(columns = {'index' : 'timer', 0 : 'N'})\n",
    "    .sort_values('timer')\n",
    ")\n",
    "fish_counts['start_date'] = 80-fish_counts['timer']\n",
    "fish_counts"
   ]
  },
  {
   "cell_type": "markdown",
   "id": "4c985764",
   "metadata": {},
   "source": [
    "Alright, let's set that aside for a while and just model the fish at `timer = 0` and record the counts at each day."
   ]
  },
  {
   "cell_type": "code",
   "execution_count": 16,
   "id": "d4927ef0",
   "metadata": {},
   "outputs": [
    {
     "data": {
      "text/html": [
       "<div>\n",
       "<style scoped>\n",
       "    .dataframe tbody tr th:only-of-type {\n",
       "        vertical-align: middle;\n",
       "    }\n",
       "\n",
       "    .dataframe tbody tr th {\n",
       "        vertical-align: top;\n",
       "    }\n",
       "\n",
       "    .dataframe thead th {\n",
       "        text-align: right;\n",
       "    }\n",
       "</style>\n",
       "<table border=\"1\" class=\"dataframe\">\n",
       "  <thead>\n",
       "    <tr style=\"text-align: right;\">\n",
       "      <th></th>\n",
       "      <th>day</th>\n",
       "      <th>fish_n</th>\n",
       "    </tr>\n",
       "  </thead>\n",
       "  <tbody>\n",
       "    <tr>\n",
       "      <th>0</th>\n",
       "      <td>0</td>\n",
       "      <td>1</td>\n",
       "    </tr>\n",
       "    <tr>\n",
       "      <th>1</th>\n",
       "      <td>1</td>\n",
       "      <td>2</td>\n",
       "    </tr>\n",
       "    <tr>\n",
       "      <th>2</th>\n",
       "      <td>2</td>\n",
       "      <td>2</td>\n",
       "    </tr>\n",
       "    <tr>\n",
       "      <th>3</th>\n",
       "      <td>3</td>\n",
       "      <td>2</td>\n",
       "    </tr>\n",
       "    <tr>\n",
       "      <th>4</th>\n",
       "      <td>4</td>\n",
       "      <td>2</td>\n",
       "    </tr>\n",
       "    <tr>\n",
       "      <th>5</th>\n",
       "      <td>5</td>\n",
       "      <td>2</td>\n",
       "    </tr>\n",
       "    <tr>\n",
       "      <th>6</th>\n",
       "      <td>6</td>\n",
       "      <td>2</td>\n",
       "    </tr>\n",
       "    <tr>\n",
       "      <th>7</th>\n",
       "      <td>7</td>\n",
       "      <td>2</td>\n",
       "    </tr>\n",
       "    <tr>\n",
       "      <th>8</th>\n",
       "      <td>8</td>\n",
       "      <td>3</td>\n",
       "    </tr>\n",
       "    <tr>\n",
       "      <th>9</th>\n",
       "      <td>9</td>\n",
       "      <td>3</td>\n",
       "    </tr>\n",
       "    <tr>\n",
       "      <th>10</th>\n",
       "      <td>10</td>\n",
       "      <td>4</td>\n",
       "    </tr>\n",
       "  </tbody>\n",
       "</table>\n",
       "</div>"
      ],
      "text/plain": [
       "    day  fish_n\n",
       "0     0       1\n",
       "1     1       2\n",
       "2     2       2\n",
       "3     3       2\n",
       "4     4       2\n",
       "5     5       2\n",
       "6     6       2\n",
       "7     7       2\n",
       "8     8       3\n",
       "9     9       3\n",
       "10   10       4"
      ]
     },
     "execution_count": 16,
     "metadata": {},
     "output_type": "execute_result"
    }
   ],
   "source": [
    "# List of fish timers:\n",
    "fish_list = [0]\n",
    "# Counts of fish\n",
    "fish_n = [1]\n",
    "# This will store how the fish change after one day:\n",
    "growth_dict = dict(\n",
    "    zip(\n",
    "        list(range(9)),\n",
    "        [6, 0, 1, 2, 3, 4, 5, 6, 7]\n",
    "    )\n",
    ")\n",
    "\n",
    "for i in range(80):\n",
    "    \n",
    "    # New fish:\n",
    "    new_fish = [8 for x in fish_list if x == 0]\n",
    "    \n",
    "    # Change fish:\n",
    "    fish_list = [growth_dict[x] for x in fish_list]\n",
    "    fish_list += new_fish\n",
    "\n",
    "    fish_n.append(len(fish_list))\n",
    "\n",
    "fish_df = pd.DataFrame({\n",
    "    'day' : list(range(len(fish_n))),\n",
    "    'fish_n' : fish_n\n",
    "})\n",
    "\n",
    "fish_df.head(11)"
   ]
  },
  {
   "cell_type": "markdown",
   "id": "3902bc6c",
   "metadata": {},
   "source": [
    "Cool, now we just need to join this to our counts and take a weighted sum!"
   ]
  },
  {
   "cell_type": "code",
   "execution_count": 17,
   "id": "052a7abb",
   "metadata": {},
   "outputs": [
    {
     "data": {
      "text/plain": [
       "360761"
      ]
     },
     "execution_count": 17,
     "metadata": {},
     "output_type": "execute_result"
    }
   ],
   "source": [
    "fish_counts = pd.merge(\n",
    "    left = fish_counts,\n",
    "    right = fish_df,\n",
    "    how = 'left',\n",
    "    left_on = 'start_date',\n",
    "    right_on = 'day'\n",
    ")\n",
    "\n",
    "(fish_counts['fish_n']*fish_counts['N']).sum()"
   ]
  },
  {
   "cell_type": "markdown",
   "id": "0e470f8a",
   "metadata": {},
   "source": [
    "### Part 2:\n",
    "\n",
    "Same thing but with 256 days instead of 8. Thought I could just re-run this but not so! Exponential growth is strong. Instead, let's condense this to a data frame to store the counts. This is way smarter anyways."
   ]
  },
  {
   "cell_type": "code",
   "execution_count": 19,
   "id": "d1d13dbb",
   "metadata": {},
   "outputs": [
    {
     "data": {
      "text/plain": [
       "1632779838045.0"
      ]
     },
     "execution_count": 19,
     "metadata": {},
     "output_type": "execute_result"
    }
   ],
   "source": [
    "# drop these columns \n",
    "fish_counts.drop(columns = ['start_date', 'day', 'fish_n'], inplace = True)\n",
    "fish_counts['start_date'] = 256-fish_counts['timer']\n",
    "\n",
    "# Initial state\n",
    "fish_list = pd.Series([1, 0, 0, 0, 0, 0, 0, 0, 0])\n",
    "# Counts of fish\n",
    "fish_n = [1]\n",
    "\n",
    "for i in range(256):\n",
    "    \n",
    "    # New fish:\n",
    "    new_fish = fish_list.iloc[0]\n",
    "    \n",
    "    # Change fish:\n",
    "    fish_list = fish_list.shift(-1)\n",
    "    \n",
    "    # Add new fish and reset adults from 0 to 6\n",
    "    fish_list.iloc[8] = new_fish\n",
    "    fish_list.iloc[6] += new_fish\n",
    "\n",
    "    fish_n.append(fish_list.sum())\n",
    "\n",
    "fish_df = pd.DataFrame({\n",
    "    'day' : list(range(len(fish_n))),\n",
    "    'fish_n' : fish_n\n",
    "})\n",
    "\n",
    "fish_counts = pd.merge(\n",
    "    left = fish_counts,\n",
    "    right = fish_df,\n",
    "    how = 'left',\n",
    "    left_on = 'start_date',\n",
    "    right_on = 'day'\n",
    ")\n",
    "\n",
    "(fish_counts['fish_n']*fish_counts['N']).sum()"
   ]
  },
  {
   "cell_type": "markdown",
   "id": "aaca701a",
   "metadata": {},
   "source": [
    "Guess I'm not surprised that the more mathematical ones are easier for me"
   ]
  }
 ],
 "metadata": {
  "kernelspec": {
   "display_name": "Python 3 (ipykernel)",
   "language": "python",
   "name": "python3"
  },
  "language_info": {
   "codemirror_mode": {
    "name": "ipython",
    "version": 3
   },
   "file_extension": ".py",
   "mimetype": "text/x-python",
   "name": "python",
   "nbconvert_exporter": "python",
   "pygments_lexer": "ipython3",
   "version": "3.8.8"
  }
 },
 "nbformat": 4,
 "nbformat_minor": 5
}
