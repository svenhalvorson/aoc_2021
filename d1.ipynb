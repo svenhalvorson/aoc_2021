{
 "cells": [
  {
   "cell_type": "markdown",
   "id": "420dfcac",
   "metadata": {},
   "source": [
    "### ADVENT OF CODE 2021 LETS GO\n",
    "\n",
    "We have a sequences of depths and are asked how many times the depth increases"
   ]
  },
  {
   "cell_type": "code",
   "execution_count": 41,
   "id": "a21aa712",
   "metadata": {},
   "outputs": [
    {
     "data": {
      "text/html": [
       "<div>\n",
       "<style scoped>\n",
       "    .dataframe tbody tr th:only-of-type {\n",
       "        vertical-align: middle;\n",
       "    }\n",
       "\n",
       "    .dataframe tbody tr th {\n",
       "        vertical-align: top;\n",
       "    }\n",
       "\n",
       "    .dataframe thead th {\n",
       "        text-align: right;\n",
       "    }\n",
       "</style>\n",
       "<table border=\"1\" class=\"dataframe\">\n",
       "  <thead>\n",
       "    <tr style=\"text-align: right;\">\n",
       "      <th></th>\n",
       "      <th>0</th>\n",
       "    </tr>\n",
       "  </thead>\n",
       "  <tbody>\n",
       "    <tr>\n",
       "      <th>0</th>\n",
       "      <td>156</td>\n",
       "    </tr>\n",
       "    <tr>\n",
       "      <th>1</th>\n",
       "      <td>153</td>\n",
       "    </tr>\n",
       "    <tr>\n",
       "      <th>2</th>\n",
       "      <td>163</td>\n",
       "    </tr>\n",
       "    <tr>\n",
       "      <th>3</th>\n",
       "      <td>168</td>\n",
       "    </tr>\n",
       "    <tr>\n",
       "      <th>4</th>\n",
       "      <td>166</td>\n",
       "    </tr>\n",
       "    <tr>\n",
       "      <th>...</th>\n",
       "      <td>...</td>\n",
       "    </tr>\n",
       "    <tr>\n",
       "      <th>1995</th>\n",
       "      <td>3754</td>\n",
       "    </tr>\n",
       "    <tr>\n",
       "      <th>1996</th>\n",
       "      <td>3755</td>\n",
       "    </tr>\n",
       "    <tr>\n",
       "      <th>1997</th>\n",
       "      <td>3762</td>\n",
       "    </tr>\n",
       "    <tr>\n",
       "      <th>1998</th>\n",
       "      <td>3769</td>\n",
       "    </tr>\n",
       "    <tr>\n",
       "      <th>1999</th>\n",
       "      <td>3770</td>\n",
       "    </tr>\n",
       "  </tbody>\n",
       "</table>\n",
       "<p>2000 rows × 1 columns</p>\n",
       "</div>"
      ],
      "text/plain": [
       "         0\n",
       "0      156\n",
       "1      153\n",
       "2      163\n",
       "3      168\n",
       "4      166\n",
       "...    ...\n",
       "1995  3754\n",
       "1996  3755\n",
       "1997  3762\n",
       "1998  3769\n",
       "1999  3770\n",
       "\n",
       "[2000 rows x 1 columns]"
      ]
     },
     "execution_count": 41,
     "metadata": {},
     "output_type": "execute_result"
    }
   ],
   "source": [
    "import pandas as pd\n",
    "import numpy as np\n",
    "\n",
    "depths = pd.read_csv('d1.txt', header = None)\n",
    "depths"
   ]
  },
  {
   "cell_type": "markdown",
   "id": "ba0fb4b4",
   "metadata": {},
   "source": [
    "So I think this can be acomplished by just lagging this and taking a difference?"
   ]
  },
  {
   "cell_type": "code",
   "execution_count": 42,
   "id": "ce74e968",
   "metadata": {},
   "outputs": [
    {
     "data": {
      "text/plain": [
       "0    1233\n",
       "dtype: int64"
      ]
     },
     "execution_count": 42,
     "metadata": {},
     "output_type": "execute_result"
    }
   ],
   "source": [
    "(depths - depths.shift(1)).apply(lambda x : x > 0).sum()"
   ]
  },
  {
   "cell_type": "markdown",
   "id": "da3b88e5",
   "metadata": {},
   "source": [
    "Hot... \n",
    "\n",
    "### Part 2\n",
    "Now we're asked to do this same process but turn these on the basis of a rolling, three measurement sum. If we compute the difference in rolling sums like \n",
    "\n",
    "$$(A + B + C) - (B + C + D) = A - D$$"
   ]
  },
  {
   "cell_type": "code",
   "execution_count": 43,
   "id": "bdfe6f63",
   "metadata": {},
   "outputs": [
    {
     "data": {
      "text/plain": [
       "0    1275\n",
       "dtype: int64"
      ]
     },
     "execution_count": 43,
     "metadata": {},
     "output_type": "execute_result"
    }
   ],
   "source": [
    "(depths - depths.shift(3)).apply(lambda x : x > 0).sum()"
   ]
  }
 ],
 "metadata": {
  "kernelspec": {
   "display_name": "Python 3 (ipykernel)",
   "language": "python",
   "name": "python3"
  },
  "language_info": {
   "codemirror_mode": {
    "name": "ipython",
    "version": 3
   },
   "file_extension": ".py",
   "mimetype": "text/x-python",
   "name": "python",
   "nbconvert_exporter": "python",
   "pygments_lexer": "ipython3",
   "version": "3.8.8"
  }
 },
 "nbformat": 4,
 "nbformat_minor": 5
}
