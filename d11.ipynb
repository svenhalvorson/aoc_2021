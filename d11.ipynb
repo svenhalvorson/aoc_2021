{
 "cells": [
  {
   "cell_type": "markdown",
   "id": "049b6430",
   "metadata": {},
   "source": [
    "### Day 11\n",
    "\n",
    "We're given a matrix of values and the rules that govern a process of increasing and falling. Each 'round', we start by increasing the value of each cell by one. Then, all of the cells with a greater than 9 value flash. This increases the energy of all the neighboring cells by 1. Any cells that *now* have a value over 9 also flash and so on. Tally the number of flashes over 100 rounds."
   ]
  },
  {
   "cell_type": "code",
   "execution_count": 1,
   "id": "85ba584d",
   "metadata": {},
   "outputs": [
    {
     "data": {
      "text/plain": [
       "array([[4, 5, 8, 5, 6, 1, 2, 3, 3, 1],\n",
       "       [5, 8, 6, 3, 5, 6, 6, 4, 3, 3],\n",
       "       [6, 7, 1, 4, 4, 1, 8, 6, 1, 1],\n",
       "       [1, 7, 4, 6, 4, 6, 7, 3, 2, 2],\n",
       "       [6, 1, 6, 1, 7, 7, 5, 6, 4, 4],\n",
       "       [6, 5, 8, 1, 6, 3, 1, 6, 6, 2],\n",
       "       [1, 2, 4, 7, 1, 6, 1, 8, 1, 7],\n",
       "       [8, 3, 1, 2, 6, 1, 5, 1, 1, 3],\n",
       "       [6, 7, 5, 1, 4, 6, 6, 1, 4, 2],\n",
       "       [1, 1, 6, 1, 8, 4, 7, 7, 3, 2]])"
      ]
     },
     "execution_count": 1,
     "metadata": {},
     "output_type": "execute_result"
    }
   ],
   "source": [
    "import pandas as pd\n",
    "import numpy as np\n",
    "\n",
    "with open('d11.txt') as file:\n",
    "    puzzle_input = file.readlines()\n",
    "    puzzle_input = [x.strip() for x in puzzle_input]\n",
    "\n",
    "octopuses = [[y for y in x] for x in puzzle_input]\n",
    "octopuses = np.array(octopuses, dtype = 'int')\n",
    "octopuses"
   ]
  },
  {
   "cell_type": "code",
   "execution_count": 2,
   "id": "bda4dbc6",
   "metadata": {},
   "outputs": [
    {
     "data": {
      "text/plain": [
       "array([[0, 0, 0, 0, 0, 0, 0, 0, 0, 0],\n",
       "       [0, 0, 0, 0, 0, 0, 0, 0, 0, 0],\n",
       "       [0, 0, 0, 0, 0, 0, 0, 0, 0, 0],\n",
       "       [0, 0, 0, 0, 0, 0, 0, 0, 0, 0],\n",
       "       [0, 0, 0, 0, 0, 0, 0, 0, 0, 0],\n",
       "       [0, 0, 0, 0, 0, 0, 0, 0, 0, 0],\n",
       "       [0, 0, 0, 0, 0, 0, 0, 0, 0, 0],\n",
       "       [0, 0, 0, 0, 0, 0, 0, 0, 0, 0],\n",
       "       [0, 0, 0, 0, 0, 0, 0, 0, 0, 0],\n",
       "       [0, 0, 0, 0, 0, 0, 0, 0, 0, 0]])"
      ]
     },
     "execution_count": 2,
     "metadata": {},
     "output_type": "execute_result"
    }
   ],
   "source": [
    "def flash(arr):\n",
    "    return np.where(\n",
    "        arr > 9,\n",
    "        1,\n",
    "        0\n",
    "    )\n",
    "\n",
    "flash(octopuses + 1)"
   ]
  },
  {
   "cell_type": "code",
   "execution_count": 3,
   "id": "9dc448b5",
   "metadata": {},
   "outputs": [
    {
     "data": {
      "text/plain": [
       "[]"
      ]
     },
     "execution_count": 3,
     "metadata": {},
     "output_type": "execute_result"
    }
   ],
   "source": [
    "def get_flash_neighbors(arr):\n",
    "    flash_points = np.where(arr == 1)\n",
    "    flash_points = [(flash_points[0][i], flash_points[1][i]) for i in range(len(flash_points[0]))]\n",
    "    flash_points = [np.array(x) for x in flash_points]\n",
    "    \n",
    "    shifts = [\n",
    "        (1,0),\n",
    "        (1,1),\n",
    "        (0,1),\n",
    "        (-1,1),\n",
    "        (-1,0),\n",
    "        (-1,-1),\n",
    "        (0,-1),\n",
    "        (1, -1),\n",
    "    ]\n",
    "    shifts = [np.array(x) for x in shifts]\n",
    "    \n",
    "    neighbors = []\n",
    "    \n",
    "    for point in flash_points:\n",
    "        for shift in shifts:\n",
    "            next_point = point + shift\n",
    "            if (next_point < 0).any() or (next_point[0] >= len(arr)) or (next_point[1] >= len(arr[0])):\n",
    "                next\n",
    "            else:\n",
    "                neighbors.append(next_point)\n",
    "            \n",
    "    \n",
    "    return(neighbors)\n",
    "    \n",
    "get_flash_neighbors(flash(octopuses + 1))[:8]   "
   ]
  },
  {
   "cell_type": "code",
   "execution_count": 4,
   "id": "f75f2b52",
   "metadata": {},
   "outputs": [],
   "source": [
    "def update_octopuses(octopuses, neighbors):\n",
    "    for neighbor in neighbors:\n",
    "        octopuses[neighbor[0]][neighbor[1]] += 1\n",
    "    return octopuses\n",
    "\n"
   ]
  },
  {
   "cell_type": "code",
   "execution_count": 5,
   "id": "df5b45f3",
   "metadata": {},
   "outputs": [
    {
     "data": {
      "text/plain": [
       "1571.0"
      ]
     },
     "execution_count": 5,
     "metadata": {},
     "output_type": "execute_result"
    }
   ],
   "source": [
    "flash_total = 0\n",
    "octopus_save = octopuses.copy()\n",
    "for i in range(100):\n",
    "    \n",
    "    # initialize octopuses and log each round\n",
    "    octopuses = octopuses + 1\n",
    "    flash_log = np.zeros(octopuses.shape)\n",
    "    \n",
    "    # Keep flashing if there are more to go:\n",
    "    while (flash(octopuses) > flash_log).any():\n",
    "        \n",
    "        next_flash = flash(octopuses)\n",
    "        next_flash = np.where(\n",
    "            flash_log == 1,\n",
    "            0,\n",
    "            next_flash\n",
    "        )\n",
    "        octopuses = update_octopuses(octopuses, get_flash_neighbors(next_flash))\n",
    "        flash_log = flash_log + next_flash\n",
    "        \n",
    "    # Reset    \n",
    "    octopuses = np.where(\n",
    "        octopuses > 9,\n",
    "        0,\n",
    "        octopuses\n",
    "    )\n",
    "    #print(octopuses)\n",
    "    flash_total += flash_log.sum()\n",
    "    \n",
    "flash_total\n",
    "    \n",
    "    \n",
    "    "
   ]
  },
  {
   "cell_type": "markdown",
   "id": "387c8e47",
   "metadata": {},
   "source": [
    "### Part 2\n",
    "\n",
    "Now we're asked to find the step at which all the octopuses flash in unison. Seems easy:"
   ]
  },
  {
   "cell_type": "code",
   "execution_count": 6,
   "id": "019003e3",
   "metadata": {},
   "outputs": [
    {
     "data": {
      "text/plain": [
       "387"
      ]
     },
     "execution_count": 6,
     "metadata": {},
     "output_type": "execute_result"
    }
   ],
   "source": [
    "round_num = 0\n",
    "octopuses = octopus_save.copy()\n",
    "\n",
    "while True:\n",
    "    \n",
    "    # initialize octopuses and log each round\n",
    "    octopuses = octopuses + 1\n",
    "    flash_log = np.zeros(octopuses.shape)\n",
    "    round_num += 1\n",
    "    \n",
    "    # Keep flashing if there are more to go:\n",
    "    while (flash(octopuses) > flash_log).any():\n",
    "        \n",
    "        next_flash = flash(octopuses)\n",
    "        next_flash = np.where(\n",
    "            flash_log == 1,\n",
    "            0,\n",
    "            next_flash\n",
    "        )\n",
    "        octopuses = update_octopuses(octopuses, get_flash_neighbors(next_flash))\n",
    "        flash_log = flash_log + next_flash\n",
    "        \n",
    "    # Reset    \n",
    "    octopuses = np.where(\n",
    "        octopuses > 9,\n",
    "        0,\n",
    "        octopuses\n",
    "    )\n",
    "    \n",
    "    if (flash_log == 1).all():\n",
    "        break\n",
    "    \n",
    "    \n",
    "round_num"
   ]
  }
 ],
 "metadata": {
  "kernelspec": {
   "display_name": "Python 3 (ipykernel)",
   "language": "python",
   "name": "python3"
  },
  "language_info": {
   "codemirror_mode": {
    "name": "ipython",
    "version": 3
   },
   "file_extension": ".py",
   "mimetype": "text/x-python",
   "name": "python",
   "nbconvert_exporter": "python",
   "pygments_lexer": "ipython3",
   "version": "3.8.8"
  }
 },
 "nbformat": 4,
 "nbformat_minor": 5
}
