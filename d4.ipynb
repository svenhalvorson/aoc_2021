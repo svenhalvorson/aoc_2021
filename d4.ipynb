{
 "cells": [
  {
   "cell_type": "markdown",
   "id": "0dfce92b",
   "metadata": {},
   "source": [
    "### Day 4\n",
    "\n",
    "Here we have a series of bingo boards and a sequence of numbers called. We're tasked with determining which board won, when, and what the uncalled numbers in that board are"
   ]
  },
  {
   "cell_type": "code",
   "execution_count": 39,
   "id": "94622400",
   "metadata": {},
   "outputs": [
    {
     "data": {
      "text/plain": [
       "[92, 12, 94, 64, 14]"
      ]
     },
     "execution_count": 39,
     "metadata": {},
     "output_type": "execute_result"
    }
   ],
   "source": [
    "import pandas as pd\n",
    "import numpy as np\n",
    "from functools import reduce\n",
    "\n",
    "with(open('d4.txt')) as text:\n",
    "    puzzle_input = text.readlines()\n",
    "\n",
    "numbers_called = puzzle_input[0].replace(\"\\n\", '')\n",
    "numbers_called = numbers_called.split(',')\n",
    "numbers_called = [int(x) for x in numbers_called]\n",
    "numbers_called[:5]"
   ]
  },
  {
   "cell_type": "code",
   "execution_count": 40,
   "id": "f10b48d2",
   "metadata": {},
   "outputs": [
    {
     "data": {
      "text/plain": [
       "[['60', '79', '46', '9', '58'],\n",
       " ['97', '81', '6', '94', '84'],\n",
       " ['38', '40', '17', '61', '29'],\n",
       " ['11', '28', '0', '91', '15'],\n",
       " ['24', '77', '34', '59', '36']]"
      ]
     },
     "execution_count": 40,
     "metadata": {},
     "output_type": "execute_result"
    }
   ],
   "source": [
    "# Now get the bingo boards\n",
    "boards = puzzle_input[2:]\n",
    "boards = [x.replace('\\n', '') for x in boards]\n",
    "boards = list(map(lambda x: [x for x in x.split(' ') if len(x) > 0], boards))\n",
    "boards = [x for x in boards if len(x) == 5]\n",
    "\n",
    "boards[0:5]"
   ]
  },
  {
   "cell_type": "code",
   "execution_count": 41,
   "id": "9af4f93f",
   "metadata": {},
   "outputs": [],
   "source": [
    "def make_board(start):\n",
    "    return np.array(boards[start:(start+5)], dtype = 'int')\n",
    "\n",
    "boards = list(\n",
    "    map(\n",
    "        make_board, \n",
    "        list(range(0, len(boards), 5))\n",
    "    )\n",
    ")\n",
    "\n",
    "# Save a copy for testing\n",
    "boards_save = boards.copy()\n"
   ]
  },
  {
   "cell_type": "code",
   "execution_count": 42,
   "id": "b2fbf5f1",
   "metadata": {},
   "outputs": [
    {
     "data": {
      "text/plain": [
       "array([[60, 79, 46,  9, 58],\n",
       "       [97, 81,  6, 94, 84],\n",
       "       [38, 40, 17, 61, 29],\n",
       "       [11, 28,  0, 91, 15],\n",
       "       [24, 77, 34, 59, 36]])"
      ]
     },
     "execution_count": 42,
     "metadata": {},
     "output_type": "execute_result"
    }
   ],
   "source": [
    "boards[0]"
   ]
  },
  {
   "cell_type": "markdown",
   "id": "e19eacb0",
   "metadata": {},
   "source": [
    "I think this will be easiest if we just replace values with an indicator value. Part 2 might not like having all that information lost but whatever \n",
    "\n",
    "Need a function to check if the board is done"
   ]
  },
  {
   "cell_type": "code",
   "execution_count": 43,
   "id": "dac8a1bc",
   "metadata": {},
   "outputs": [],
   "source": [
    "def all_marked(x):\n",
    "    return all(x == -1)\n",
    "\n",
    "def bingo(x):\n",
    "    row_bingo = np.apply_along_axis(all_marked, 0, x).any()\n",
    "    col_bingo = np.apply_along_axis(all_marked, 1, x).any()\n",
    "    return (row_bingo or col_bingo)"
   ]
  },
  {
   "cell_type": "markdown",
   "id": "664f41f0",
   "metadata": {},
   "source": [
    "Now we wanna just loop through all the numbers called in order, modify the boards, and then check if they're done\n"
   ]
  },
  {
   "cell_type": "code",
   "execution_count": 44,
   "id": "38a20732",
   "metadata": {},
   "outputs": [
    {
     "data": {
      "text/plain": [
       "33462"
      ]
     },
     "execution_count": 44,
     "metadata": {},
     "output_type": "execute_result"
    }
   ],
   "source": [
    "done = False\n",
    "for number in numbers_called:\n",
    "    \n",
    "    # Replace number in boards\n",
    "    for i, board in enumerate(boards):\n",
    "        boards[i] = np.where(\n",
    "            boards[i] == number,\n",
    "            -1,\n",
    "            boards[i]       \n",
    "        )\n",
    "        # Check for a bingo\n",
    "        if bingo(boards[i]):\n",
    "            winning_board = boards[i]\n",
    "            done = True\n",
    "            break\n",
    "    \n",
    "    if done:\n",
    "        break\n",
    "\n",
    "number*np.where(\n",
    "    winning_board == -1,\n",
    "    0,\n",
    "    winning_board\n",
    ").sum()"
   ]
  },
  {
   "cell_type": "markdown",
   "id": "69aff789",
   "metadata": {},
   "source": [
    "### Part 2\n",
    "\n",
    "Now we have to run through and find the last board to get a bingo. Basically the same except now we delete boards when they bingo instead of stopping"
   ]
  },
  {
   "cell_type": "code",
   "execution_count": 59,
   "id": "6ea6a148",
   "metadata": {},
   "outputs": [
    {
     "data": {
      "text/plain": [
       "30070"
      ]
     },
     "execution_count": 59,
     "metadata": {},
     "output_type": "execute_result"
    }
   ],
   "source": [
    "boards = boards_save.copy()\n",
    "\n",
    "for number in numbers_called:\n",
    "    \n",
    "    # list of boards to remove\n",
    "    removals = []\n",
    "    \n",
    "    # Replace number in boards\n",
    "    for i, board in enumerate(boards):\n",
    "        boards[i] = np.where(\n",
    "            boards[i] == number,\n",
    "            -1,\n",
    "            boards[i]       \n",
    "        )\n",
    "        # Check for a bingo\n",
    "        if bingo(boards[i]):\n",
    "            removals.append(i)\n",
    "    \n",
    "    if len(boards) == 1:\n",
    "        worst_board = boards[0]\n",
    "        break \n",
    "    \n",
    "    # I don't really know how to remove items from a list by position in\n",
    "    # a better way. The index changes as you remove items:\n",
    "    offset = 0\n",
    "    for removal in removals:\n",
    "        del boards[removal + offset]\n",
    "        offset -= 1\n",
    "    \n",
    "number*np.where(\n",
    "    worst_board == -1,\n",
    "    0,\n",
    "    worst_board\n",
    ").sum()   \n",
    "    "
   ]
  },
  {
   "cell_type": "code",
   "execution_count": 58,
   "id": "0f7bfe05",
   "metadata": {},
   "outputs": [
    {
     "data": {
      "text/plain": [
       "[array([[-1, -1, 58, -1, -1],\n",
       "        [-1, -1, -1, 43, 41],\n",
       "        [-1, 80, -1, -1, -1],\n",
       "        [-1, -1, 61, -1, -1],\n",
       "        [-1, 27, -1, -1, -1]])]"
      ]
     },
     "execution_count": 58,
     "metadata": {},
     "output_type": "execute_result"
    }
   ],
   "source": [
    "boards"
   ]
  },
  {
   "cell_type": "code",
   "execution_count": 51,
   "id": "ee90e378",
   "metadata": {},
   "outputs": [
    {
     "ename": "ValueError",
     "evalue": "The truth value of an array with more than one element is ambiguous. Use a.any() or a.all()",
     "output_type": "error",
     "traceback": [
      "\u001b[1;31m---------------------------------------------------------------------------\u001b[0m",
      "\u001b[1;31mValueError\u001b[0m                                Traceback (most recent call last)",
      "\u001b[1;32m~\\AppData\\Local\\Temp/ipykernel_17632/2493698271.py\u001b[0m in \u001b[0;36m<module>\u001b[1;34m\u001b[0m\n\u001b[1;32m----> 1\u001b[1;33m \u001b[0mboards\u001b[0m\u001b[1;33m.\u001b[0m\u001b[0mremove\u001b[0m\u001b[1;33m(\u001b[0m\u001b[0mremovals\u001b[0m\u001b[1;33m[\u001b[0m\u001b[1;36m0\u001b[0m\u001b[1;33m]\u001b[0m\u001b[1;33m)\u001b[0m\u001b[1;33m\u001b[0m\u001b[1;33m\u001b[0m\u001b[0m\n\u001b[0m",
      "\u001b[1;31mValueError\u001b[0m: The truth value of an array with more than one element is ambiguous. Use a.any() or a.all()"
     ]
    }
   ],
   "source": [
    "boards.remove(removals[0])"
   ]
  },
  {
   "cell_type": "code",
   "execution_count": 53,
   "id": "68757745",
   "metadata": {},
   "outputs": [
    {
     "ename": "ValueError",
     "evalue": "The truth value of an array with more than one element is ambiguous. Use a.any() or a.all()",
     "output_type": "error",
     "traceback": [
      "\u001b[1;31m---------------------------------------------------------------------------\u001b[0m",
      "\u001b[1;31mValueError\u001b[0m                                Traceback (most recent call last)",
      "\u001b[1;32m~\\AppData\\Local\\Temp/ipykernel_17632/526609094.py\u001b[0m in \u001b[0;36m<module>\u001b[1;34m\u001b[0m\n\u001b[1;32m----> 1\u001b[1;33m \u001b[0mremovals\u001b[0m\u001b[1;33m[\u001b[0m\u001b[1;36m0\u001b[0m\u001b[1;33m]\u001b[0m \u001b[1;32min\u001b[0m \u001b[0mboards\u001b[0m\u001b[1;33m\u001b[0m\u001b[1;33m\u001b[0m\u001b[0m\n\u001b[0m",
      "\u001b[1;31mValueError\u001b[0m: The truth value of an array with more than one element is ambiguous. Use a.any() or a.all()"
     ]
    }
   ],
   "source": [
    "removals[0] in boards\n"
   ]
  },
  {
   "cell_type": "code",
   "execution_count": null,
   "id": "97dd285d",
   "metadata": {},
   "outputs": [],
   "source": []
  }
 ],
 "metadata": {
  "kernelspec": {
   "display_name": "Python 3 (ipykernel)",
   "language": "python",
   "name": "python3"
  },
  "language_info": {
   "codemirror_mode": {
    "name": "ipython",
    "version": 3
   },
   "file_extension": ".py",
   "mimetype": "text/x-python",
   "name": "python",
   "nbconvert_exporter": "python",
   "pygments_lexer": "ipython3",
   "version": "3.8.8"
  }
 },
 "nbformat": 4,
 "nbformat_minor": 5
}
