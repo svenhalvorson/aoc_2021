{
 "cells": [
  {
   "cell_type": "markdown",
   "id": "96c9d553",
   "metadata": {},
   "source": [
    "### Day 7\n",
    "\n",
    "We're given a list of numbers and are asked to find the value that has the least total absolute error. I like latex so it's like:\n",
    "\n",
    "Given $\\{x_1, x_2, \\dots, x_n\\}$, what value of $\\bar{x}$ minimizes:\n",
    "\n",
    "$$\\sum_{i=1}^N\\lvert x_i-\\bar{x}\\rvert$$\n",
    "\n",
    "I think the method for doing this would be something like:\n",
    "1. Try the floored average\n",
    "2. Try the value(s) above and below\n",
    "3. If either of them are less, keep going until in that direction till the TAE starts to ascend again\n",
    "\n",
    "Seems like the actual mean is going to be better than the median since we're talking literal distance, not relative position."
   ]
  },
  {
   "cell_type": "code",
   "execution_count": 1,
   "id": "9c113738",
   "metadata": {},
   "outputs": [
    {
     "data": {
      "text/plain": [
       "0      1101\n",
       "1         1\n",
       "2        29\n",
       "3        67\n",
       "4      1102\n",
       "       ... \n",
       "995     335\n",
       "996     748\n",
       "997     553\n",
       "998     196\n",
       "999     531\n",
       "Length: 1000, dtype: int32"
      ]
     },
     "execution_count": 1,
     "metadata": {},
     "output_type": "execute_result"
    }
   ],
   "source": [
    "import pandas as pd\n",
    "\n",
    "with open('d7.txt') as file:\n",
    "    crabs = file.readline()\n",
    "crabs = crabs.strip().split(',')\n",
    "crabs = [int(x) for x in crabs]\n",
    "crabs = pd.Series(crabs, dtype = 'int')\n",
    "crabs"
   ]
  },
  {
   "cell_type": "code",
   "execution_count": 41,
   "id": "e86f2b21",
   "metadata": {},
   "outputs": [
    {
     "data": {
      "text/plain": [
       "325528"
      ]
     },
     "execution_count": 41,
     "metadata": {},
     "output_type": "execute_result"
    }
   ],
   "source": [
    "floored_mean = int(crabs.mean() // 1)\n",
    "\n",
    "def get_tae(x):\n",
    "    return (crabs - x).apply(abs).sum()\n",
    "\n",
    "# Go left:\n",
    "i = 0\n",
    "while get_tae(floored_mean + i - 1) < get_tae(floored_mean + i):\n",
    "    i -= 1\n",
    "left_guess = floored_mean + i\n",
    "\n",
    "# Go right:\n",
    "i = 0\n",
    "while get_tae(floored_mean + i + 1) < get_tae(floored_mean + i):\n",
    "    i += 1\n",
    "right_guess = floored_mean + i\n",
    " \n",
    "min([get_tae(left_guess), get_tae(right_guess)])    "
   ]
  },
  {
   "cell_type": "markdown",
   "id": "81aaa207",
   "metadata": {},
   "source": [
    "That was about the easiest one yet.\n",
    "\n",
    "### Part 2\n",
    "\n",
    "Now we have a cost function built in that makes moving less appealing. Now the cost of each move is one more than the last so we'll do that sum of consecutive integers trick."
   ]
  },
  {
   "cell_type": "code",
   "execution_count": 43,
   "id": "cd354593",
   "metadata": {},
   "outputs": [
    {
     "data": {
      "text/plain": [
       "85015836.0"
      ]
     },
     "execution_count": 43,
     "metadata": {},
     "output_type": "execute_result"
    }
   ],
   "source": [
    "def get_tae2(x):\n",
    "    return (crabs - x).apply(abs).apply(lambda x: x*(x+1)/2).sum()\n",
    "\n",
    "# Go left:\n",
    "i = 0\n",
    "while get_tae2(floored_mean + i - 1) < get_tae2(floored_mean + i):\n",
    "    i -= 1\n",
    "left_guess = floored_mean + i\n",
    "\n",
    "# Go right:\n",
    "i = 0\n",
    "while get_tae2(floored_mean + i + 1) < get_tae2(floored_mean + i):\n",
    "    i += 1\n",
    "right_guess = floored_mean + i\n",
    " \n",
    "min([get_tae2(left_guess), get_tae2(right_guess)])   "
   ]
  },
  {
   "cell_type": "markdown",
   "id": "59efbdb7",
   "metadata": {},
   "source": [
    "ez"
   ]
  }
 ],
 "metadata": {
  "kernelspec": {
   "display_name": "Python 3 (ipykernel)",
   "language": "python",
   "name": "python3"
  },
  "language_info": {
   "codemirror_mode": {
    "name": "ipython",
    "version": 3
   },
   "file_extension": ".py",
   "mimetype": "text/x-python",
   "name": "python",
   "nbconvert_exporter": "python",
   "pygments_lexer": "ipython3",
   "version": "3.8.8"
  }
 },
 "nbformat": 4,
 "nbformat_minor": 5
}
